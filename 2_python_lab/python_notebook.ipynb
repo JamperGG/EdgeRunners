{
 "cells": [
  {
   "cell_type": "markdown",
   "metadata": {},
   "source": [
    "### Типи змінних\n",
    "#### Стрічкові змінні\n",
    "* змінна це просто імя (буква або набір букв або цифр) яке містить значення\n"
   ]
  },
  {
   "cell_type": "code",
   "execution_count": 53,
   "metadata": {},
   "outputs": [
    {
     "name": "stdout",
     "output_type": "stream",
     "text": [
      "5\n"
     ]
    }
   ],
   "source": [
    "# Додаємо два числа\n",
    "a = 2\n",
    "b = 3\n",
    "c = a + b\n",
    "print(c)\n"
   ]
  },
  {
   "cell_type": "code",
   "execution_count": 54,
   "metadata": {},
   "outputs": [
    {
     "name": "stdout",
     "output_type": "stream",
     "text": [
      "Edgerunner 5\n"
     ]
    }
   ],
   "source": [
    "#- дозволяє писати коментарі\n",
    "v = 'Edgerunner'\n",
    "print(v, c)"
   ]
  },
  {
   "cell_type": "markdown",
   "metadata": {},
   "source": [
    "> ось така помилка виводиться якщо видалити змінну 'С'\n",
    "``` python\n",
    "---------------------------------------------------------------------------\n",
    "NameError                                 Traceback (most recent call last)\n",
    "Cell In[13], line 3\n",
    "      1 # можна видаляти стрічки командою DEL\n",
    "      2 del c\n",
    "----> 3 print(v, c)\n",
    "\n",
    "NameError: name 'c' is not defined\n",
    "```"
   ]
  },
  {
   "cell_type": "code",
   "execution_count": 55,
   "metadata": {},
   "outputs": [
    {
     "name": "stdout",
     "output_type": "stream",
     "text": [
      "Перша константа:  True\n",
      "І можна так робити вивід? False\n"
     ]
    }
   ],
   "source": [
    "print(\"Перша константа: \", True)\n",
    "print(f\"І можна так робити вивід? {False}\")"
   ]
  },
  {
   "cell_type": "code",
   "execution_count": 56,
   "metadata": {},
   "outputs": [
    {
     "name": "stdout",
     "output_type": "stream",
     "text": [
      "12.5 не є рівним 13.5\n",
      "42 є рівним 42\n"
     ]
    }
   ],
   "source": [
    "print(abs(-12.5), f\"не є рівним {abs(12.5+1)}\")\n",
    "print(abs(-42), f\"є рівним {abs(42)}\")"
   ]
  },
  {
   "cell_type": "code",
   "execution_count": 57,
   "metadata": {},
   "outputs": [
    {
     "name": "stdout",
     "output_type": "stream",
     "text": [
      "Значить А=False\n",
      "тоді B=True\n"
     ]
    }
   ],
   "source": [
    "A = False\n",
    "print(\"Значить А=True\" if A else \"Значить А=False\")\n",
    "B = False\n",
    "print(\"Якщо B=False\" if B else \"тоді B=True\")"
   ]
  },
  {
   "cell_type": "code",
   "execution_count": null,
   "metadata": {},
   "outputs": [
    {
     "name": "stdout",
     "output_type": "stream",
     "text": [
      "На позиції 0 знаходиться буква a\n",
      "На позиції 1 знаходиться буква b\n",
      "На позиції 2 знаходиться буква c\n"
     ]
    }
   ],
   "source": [
    "letters = [\"a\", \"b\", \"c\"]\n",
    "for i in range(len(letters)):\n",
    "    print(f\"На позиції {i} знаходиться буква {letters[i]}\")"
   ]
  },
  {
   "cell_type": "code",
   "execution_count": 59,
   "metadata": {},
   "outputs": [
    {
     "name": "stdout",
     "output_type": "stream",
     "text": [
      "Спробуємо вирахувати значення = 12.5\n",
      "Ось така відповідь^^\n"
     ]
    }
   ],
   "source": [
    "B = 2\n",
    "try:\n",
    "    print(\"Спробуємо вирахувати значення =\" , 25/B)\n",
    "except Exception as B:\n",
    "    print(B)\n",
    "finally:\n",
    "    print(\"Ось така відповідь^^\")"
   ]
  },
  {
   "cell_type": "code",
   "execution_count": 60,
   "metadata": {},
   "outputs": [
    {
     "name": "stdout",
     "output_type": "stream",
     "text": [
      "# Звіт для Лабораторної роботи 2\n",
      "\n",
      "\n",
      "\n",
      "## Мета роботи\n",
      "\n",
      "Ознайомлення з базовими типами даних у Python, вивчення використання змінних різних типів, а також практична робота з циклами, розгалуженнями, конструкцією try-except-finally, контекст-менеджером та лямбда-функціями.\n",
      "\n",
      "\n",
      "\n",
      "## Виконання завдань\n",
      "\n",
      "\n",
      "\n",
      "1. **Основні типи даних**: Створено кілька змінних різних типів, включаючи рядки (str), цілі числа (int), числа з плаваючою комою (float), списки (list), словники (dict), кортежі (tuple) та множини (set). Ці типи даних дозволяють зберігати різні види інформації та мають унікальні можливості для обробки даних.\n",
      "\n",
      "\n",
      "\n",
      "2. **Виведення вбудованих констант**: Було виведено кілька вбудованих констант, таких як `True`, `None` та `False`, щоб продемонструвати їх використання в Python.\n",
      "\n",
      "\n",
      "\n",
      "3. **Вбудовані функції**: Було продемонстровано роботу деяких вбудованих функцій Python, наприклад, `abs()` для обчислення модуля числа, `max()` для знаходження максимального значення у списку та `len()` для обчислення довжини рядка.\n",
      "\n",
      "\n",
      "\n",
      "4. **Цикли**: Використано цикл `for` для проходження елементів списку, а також `while` для демонстрації умовних повторень.\n",
      "\n",
      "\n",
      "\n",
      "5. **Розгалуження**: Було продемонстровано використання умовних операторів `if`, `elif` та `else` для вибору дій залежно від умов.\n",
      "\n",
      "\n",
      "\n",
      "6. **Обробка помилок**: Ознайомлення з конструкцією `try-except-finally` для обробки виключень. Код із цією конструкцією дозволяє уникнути помилок під час виконання та виконувати дії незалежно від того, сталася помилка чи ні.\n",
      "\n",
      "\n",
      "\n",
      "7. **Контекст-менеджер with**: Використано `with` для безпечного відкриття файлу. Цей підхід гарантує, що файл буде закрито автоматично після завершення роботи з ним.\n",
      "\n",
      "\n",
      "\n",
      "8. **Лямбда-функції**: Створено та викликано лямбда-функцію для демонстрації її використання в Python. Лямбда-функції дозволяють створювати короткі анонімні функції, що зручно для одноразових операцій.\n",
      "\n"
     ]
    }
   ],
   "source": [
    "with open(\"README.md\", \"r\", encoding=\"(utf-8)\") as f:\n",
    "    for line in f:\n",
    "        print(line)\n",
    "#прийшлось поміняти кодування так як якшо написати звичайним способом показує не зрозумілі символи,нижче покажу як це виглядає"
   ]
  },
  {
   "cell_type": "markdown",
   "metadata": {},
   "source": [
    ">Ось так виглядає не правильне кодування\n",
    "``` python\n",
    "\n",
    "with open(\"README.md\", \"r\",) as f:\n",
    "    for line in f:\n",
    "        print(line)\n",
    "\n",
    " Р—РІС–С‚ РІРёРєРѕРЅР°РЅРѕС— СЂРѕР±РѕС‚Рё\n",
    "\n",
    "Р°РґС„Р¶С–РѕР°РґР·С„С–Рѕ\n",
    "\n",
    "С„Р»РґС–Р¶РѕР°Р»Р¶С„С–Рѕ\n",
    "\n",
    "Р°Р»РґР¶С„С–РѕР°РґР¶С„С–РѕР»\n",
    "\n",
    "Р¶РґС„С–Р°РѕРґР»Р¶С–Р°С„РґР»Р¶РѕС„С–Р°Р»РґР¶Р°С„С–\n",
    "\n",
    "С„С–РґР¶С”Р°С„С–РґР¶Р»Р°РґР¶С„С–\n",
    "\n",
    "С„С–РґР¶Р°РѕР»С„С–Р¶РґР»Р°РґР¶С„\n",
    "```"
   ]
  },
  {
   "cell_type": "code",
   "execution_count": 61,
   "metadata": {},
   "outputs": [
    {
     "name": "stdout",
     "output_type": "stream",
     "text": [
      "це просто функція яка викликає її адресу в пам'яті: <function <lambda> at 0x00000238A92E87C0>\n",
      "Ось виклик функції: Цей код зробив: ім*я Юрій, прізвище Стосик, 18 років\n"
     ]
    }
   ],
   "source": [
    "my_lambda = lambda name, surname, age: f'Цей код зробив: ім*я {name}, прізвище {surname}, {age} років'\n",
    "print(\"це просто функція яка викликає її адресу в пам'яті:\", my_lambda)\n",
    "print(\"Ось виклик функції:\", my_lambda('Юрій', 'Стосик', 18))"
   ]
  }
 ],
 "metadata": {
  "kernelspec": {
   "display_name": "Python 3",
   "language": "python",
   "name": "python3"
  },
  "language_info": {
   "codemirror_mode": {
    "name": "ipython",
    "version": 3
   },
   "file_extension": ".py",
   "mimetype": "text/x-python",
   "name": "python",
   "nbconvert_exporter": "python",
   "pygments_lexer": "ipython3",
   "version": "3.12.6"
  }
 },
 "nbformat": 4,
 "nbformat_minor": 2
}
