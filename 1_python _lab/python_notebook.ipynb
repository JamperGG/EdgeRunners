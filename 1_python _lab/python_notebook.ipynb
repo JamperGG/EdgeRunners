{
 "cells": [
  {
   "cell_type": "code",
   "execution_count": 1,
   "metadata": {},
   "outputs": [
    {
     "name": "stdout",
     "output_type": "stream",
     "text": [
      "Юра  18 років і він/вона вважається Повнолітній.\n"
     ]
    }
   ],
   "source": [
    "from datetime import date\n",
    "\n",
    "name = \"Юра\"\n",
    "birth_year = 2006\n",
    "current_year = date.today().year\n",
    "age = current_year - birth_year\n",
    "\n",
    "if age >= 18:\n",
    "    status = \"Повнолітній\"\n",
    "else:\n",
    "    status = \"Неповнолітній\"\n",
    "\n",
    "print(f\"{name}  {age} років і він/вона вважається {status}.\")\n"
   ]
  },
  {
   "cell_type": "markdown",
   "metadata": {},
   "source": [
    "Моя перша програма яка при вводі свого року народження покаже вам чи Повнолітній ви чи ні"
   ]
  }
 ],
 "metadata": {
  "kernelspec": {
   "display_name": "Python 3",
   "language": "python",
   "name": "python3"
  },
  "language_info": {
   "codemirror_mode": {
    "name": "ipython",
    "version": 3
   },
   "file_extension": ".py",
   "mimetype": "text/x-python",
   "name": "python",
   "nbconvert_exporter": "python",
   "pygments_lexer": "ipython3",
   "version": "3.12.6"
  }
 },
 "nbformat": 4,
 "nbformat_minor": 2
}
