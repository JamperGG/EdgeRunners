{
 "cells": [
  {
   "cell_type": "code",
   "execution_count": 26,
   "metadata": {},
   "outputs": [
    {
     "data": {
      "text/plain": [
       "<module 'my_class' from 'e:\\\\Edgerunner\\\\EdgeRunners-2\\\\3_python_lab\\\\my_class.py'>"
      ]
     },
     "execution_count": 26,
     "metadata": {},
     "output_type": "execute_result"
    }
   ],
   "source": [
    "import importlib\n",
    "import my_class\n",
    "\n",
    "importlib.reload(my_class)"
   ]
  },
  {
   "cell_type": "code",
   "execution_count": 27,
   "metadata": {},
   "outputs": [
    {
     "name": "stdout",
     "output_type": "stream",
     "text": [
      "<class 'my_class.TK_41'>\n",
      "Help on class TK_41 in module my_class:\n",
      "\n",
      "class TK_41(builtins.object)\n",
      " |  TK_41(surname: str, name, mark: int, group=None)\n",
      " |\n",
      " |  Тестовий клас, зараз реалізуємо опис студента\n",
      " |\n",
      " |  ---\n",
      " |\n",
      " |  surname : str\n",
      " |      Прізвище студента\n",
      " |\n",
      " |  Methods defined here:\n",
      " |\n",
      " |  __del__(self)\n",
      " |\n",
      " |  __init__(self, surname: str, name, mark: int, group=None)\n",
      " |      Ініціалізуємо обєкт\n",
      " |      - в середині конструктора створюються атрибути\n",
      " |\n",
      " |  __len__(self)\n",
      " |\n",
      " |  __repr__(self)\n",
      " |      Return repr(self).\n",
      " |\n",
      " |  calculate_scholarship_after_session(self, raiting: int)\n",
      " |\n",
      " |  fucntion_in_class(self)\n",
      " |      Це вже метод згідно термінології, і він публічний\n",
      " |\n",
      " |  panishment(self)\n",
      " |\n",
      " |  ----------------------------------------------------------------------\n",
      " |  Class methods defined here:\n",
      " |\n",
      " |  create_from_name_surname(full_name: str)\n",
      " |      альтернативний конструктор, створюємо обєкт з повного імені\n",
      " |      розчеплюємо повне імя на частинки Прізкище та Імя\n",
      " |\n",
      " |  create_from_surname_name(full_name: str)\n",
      " |      альтернативний конструктор, створюємо обєкт з повного імені\n",
      " |      розчеплюємо повне імя на частинки Прізкище та Імя\n",
      " |\n",
      " |  ----------------------------------------------------------------------\n",
      " |  Static methods defined here:\n",
      " |\n",
      " |  hobbi(h=None)\n",
      " |      в таких методах нема вказівника на обєкт\n",
      " |\n",
      " |  ----------------------------------------------------------------------\n",
      " |  Readonly properties defined here:\n",
      " |\n",
      " |  college_raiting\n",
      " |\n",
      " |  name\n",
      " |      Ця властивість є закритою, її можна читати але не можна змінювати\n",
      " |\n",
      " |  say_hello\n",
      " |\n",
      " |  surname\n",
      " |\n",
      " |  ----------------------------------------------------------------------\n",
      " |  Data descriptors defined here:\n",
      " |\n",
      " |  __dict__\n",
      " |      dictionary for instance variables\n",
      " |\n",
      " |  __weakref__\n",
      " |      list of weak references to the object\n",
      " |\n",
      " |  ----------------------------------------------------------------------\n",
      " |  Data and other attributes defined here:\n",
      " |\n",
      " |  COLLEGE_NAME = 'Це подібне до константи в клосі, але ми можемо її пере...\n",
      " |\n",
      " |  total_marks = 0\n",
      " |\n",
      " |  total_students = 0\n",
      " |\n",
      " |  var_lover_case = 'Це проста класова змінна'\n",
      "\n"
     ]
    }
   ],
   "source": [
    "from my_class import TK_41, function_in_module\n",
    "print(TK_41)\n",
    "help(TK_41)"
   ]
  },
  {
   "cell_type": "code",
   "execution_count": 41,
   "metadata": {},
   "outputs": [
    {
     "name": "stdout",
     "output_type": "stream",
     "text": [
      "['Студент Стосик Юра отримав оцінку 5', 'Студент Кукуруза Назар отримав оцінку 1', 'Студент Рубан Орест отримав оцінку 2', 'Студент Ющак Ярема отримав оцінку 2']\n"
     ]
    }
   ],
   "source": [
    "name = [\"Юра\", \"Назар\", \"Орест\", \"Ярема\"]\n",
    "surname = [\"Стосик\", \"Кукуруза\", \"Рубан\", \"Ющак\"]\n",
    "mark = [5, 1, 2, 2]\n",
    "\n",
    "print([f\"Студент {surname[i]} {name[i]} отримав оцінку {mark[i]}\" for i in range(len(name))])"
   ]
  },
  {
   "cell_type": "code",
   "execution_count": 51,
   "metadata": {},
   "outputs": [
    {
     "name": "stdout",
     "output_type": "stream",
     "text": [
      "Студент Юра Стосик отримав оцінку 5\n",
      "Студент Назар Кукуруза отримав оцінку 0\n",
      "Студент Орест Рубан отримав оцінку 0\n",
      "Студент Ярема Ющак отримав оцінку 0\n"
     ]
    }
   ],
   "source": [
    "cap = {\n",
    "    \"Прізвище\": [\"Юра\", \"Назар\", \"Орест\", \"Ярема\"],\n",
    "    \"Імя\": [\"Стосик\", \"Кукуруза\", \"Рубан\", \"Ющак\"],\n",
    "    \"Оцінка\": [5, 0, 0, 0]\n",
    "}\n",
    "\n",
    "for str in range(len(cap[\"Прізвище\"])):\n",
    "    print(f\"Студент {cap[\"Прізвище\"][str]} {cap[\"Імя\"][str]} отримав оцінку {cap[\"Оцінка\"][str]}\")"
   ]
  },
  {
   "cell_type": "code",
   "execution_count": null,
   "metadata": {},
   "outputs": [
    {
     "name": "stdout",
     "output_type": "stream",
     "text": [
      "Викликаємо __init__\n",
      "Викликаємо __init__\n",
      "Викликаємо __init__\n",
      "Викликаємо __init__\n",
      "Студент B VB отримав оцінку 4\n",
      "Студент B FB отримав оцінку 5\n",
      "Студент S DS отримав оцінку 3\n",
      "Студент D TY отримав оцінку 4\n"
     ]
    }
   ],
   "source": [
    "from my_class import TK_41\n",
    "c = [TK_41(\"Юра\", \"Стосик\", 4),\n",
    "     TK_41(\"Назар\", \"Кукуруза\", 5),\n",
    "     TK_41(\"Орест\", \"Рубан\", 3),\n",
    "     TK_41(\"Ющак\", \"Ярема\", 4)\n",
    "     ]\n",
    "\n",
    "for student in c:\n",
    "    print(f\"Студент {student.surname} {student.name} отримав оцінку {student.mark}\")"
   ]
  },
  {
   "cell_type": "code",
   "execution_count": 59,
   "metadata": {},
   "outputs": [
    {
     "name": "stdout",
     "output_type": "stream",
     "text": [
      "Викликаємо __init__\n",
      "Відрахували студента\n",
      "Представлення обєкту Студент, його задають: TK_41(surname, name, mark)\n",
      "Help on TK_41 in module my_class object:\n",
      "\n",
      "class TK_41(builtins.object)\n",
      " |  TK_41(surname: str, name, mark: int, group=None)\n",
      " |\n",
      " |  Тестовий клас, зараз реалізуємо опис студента\n",
      " |\n",
      " |  ---\n",
      " |\n",
      " |  surname : str\n",
      " |      Прізвище студента\n",
      " |\n",
      " |  Methods defined here:\n",
      " |\n",
      " |  __del__(self)\n",
      " |\n",
      " |  __init__(self, surname: str, name, mark: int, group=None)\n",
      " |      Ініціалізуємо обєкт\n",
      " |      - в середині конструктора створюються атрибути\n",
      " |\n",
      " |  __len__(self)\n",
      " |\n",
      " |  __repr__(self)\n",
      " |      Return repr(self).\n",
      " |\n",
      " |  calculate_scholarship_after_session(self, raiting: int)\n",
      " |\n",
      " |  fucntion_in_class(self)\n",
      " |      Це вже метод згідно термінології, і він публічний\n",
      " |\n",
      " |  panishment(self)\n",
      " |\n",
      " |  ----------------------------------------------------------------------\n",
      " |  Class methods defined here:\n",
      " |\n",
      " |  create_from_name_surname(full_name: str)\n",
      " |      альтернативний конструктор, створюємо обєкт з повного імені\n",
      " |      розчеплюємо повне імя на частинки Прізкище та Імя\n",
      " |\n",
      " |  create_from_surname_name(full_name: str)\n",
      " |      альтернативний конструктор, створюємо обєкт з повного імені\n",
      " |      розчеплюємо повне імя на частинки Прізкище та Імя\n",
      " |\n",
      " |  ----------------------------------------------------------------------\n",
      " |  Static methods defined here:\n",
      " |\n",
      " |  hobbi(h=None)\n",
      " |      в таких методах нема вказівника на обєкт\n",
      " |\n",
      " |  ----------------------------------------------------------------------\n",
      " |  Readonly properties defined here:\n",
      " |\n",
      " |  college_raiting\n",
      " |\n",
      " |  name\n",
      " |      Ця властивість є закритою, її можна читати але не можна змінювати\n",
      " |\n",
      " |  say_hello\n",
      " |\n",
      " |  surname\n",
      " |\n",
      " |  ----------------------------------------------------------------------\n",
      " |  Data descriptors defined here:\n",
      " |\n",
      " |  __dict__\n",
      " |      dictionary for instance variables\n",
      " |\n",
      " |  __weakref__\n",
      " |      list of weak references to the object\n",
      " |\n",
      " |  ----------------------------------------------------------------------\n",
      " |  Data and other attributes defined here:\n",
      " |\n",
      " |  COLLEGE_NAME = 'Це подібне до константи в клосі, але ми можемо її пере...\n",
      " |\n",
      " |  total_marks = 88\n",
      " |\n",
      " |  total_students = 11\n",
      " |\n",
      " |  var_lover_case = 'Це проста класова змінна'\n",
      "\n",
      "Тестовий клас, зараз реалізуємо опис студента\n",
      "    \n",
      "    ---\n",
      "\n",
      "    surname : str\n",
      "        Прізвище студента\n",
      "    \n",
      "    \n",
      "Довжина прізвища:  7\n",
      "Беремо атрибут імені Старенький\n"
     ]
    }
   ],
   "source": [
    "from my_class import TK_41\n",
    "obj = TK_41(\"Внатурі\", \"Старенький\", 52)\n",
    "\n",
    "print(obj)\n",
    "help(obj)\n",
    "\n",
    "print(TK_41.__doc__)\n",
    "\n",
    "print(\"Довжина прізвища: \", len(obj))\n",
    "\n",
    "print(\"Беремо атрибут імені\", obj.name)"
   ]
  },
  {
   "cell_type": "code",
   "execution_count": 32,
   "metadata": {},
   "outputs": [
    {
     "name": "stdout",
     "output_type": "stream",
     "text": [
      "Викликаємо __init__\n",
      "Відрахували студента\n",
      "В обєкта будуть наступні атрибути: {'_TK_41__surname': 1, '_TK_41__name': 'Один', 'mark': 1, 'group': None, '_age': None, '_scholarship': 0, 'var_lover_case': 'Перазаписали класові змінну'}\n",
      "Викликаємо __init__\n",
      "Відрахували студента\n",
      "{'_TK_41__surname': 1, '_TK_41__name': 'Один', 'mark': 1, 'group': 'TK-41', '_age': None, '_scholarship': 0, 'var_lover_case': 'Перазаписали класові змінну'} але базові атрибути будуть доступними для {'_TK_41__surname': 2, '_TK_41__name': 'Два', 'mark': 2, 'group': None, '_age': None, '_scholarship': 0, 'var_lover_case': 'Перазаписали класові змінну'}\n",
      "Викликаємо __init__\n",
      "В цьоьму обєкті ми явно задали всі атрибути {'_TK_41__surname': 3, '_TK_41__name': 'Три', 'mark': 3, 'group': 'TK-42', '_age': None, '_scholarship': 0, 'var_lover_case': 'Перазаписали класові змінну'}\n"
     ]
    }
   ],
   "source": [
    "from my_class import TK_41\n",
    "\n",
    "s1 = TK_41(1, \"Один\", 1)\n",
    "\n",
    "print(f\"В обєкта будуть наступні атрибути: {s1.__dict__}\")\n",
    "s1.group = \"TK-41\"\n",
    "\n",
    "s2 = TK_41(2, \"Два\", 2)\n",
    "print(f\"{s1.__dict__} але базові атрибути будуть доступними для {s2.__dict__}\")\n",
    "\n",
    "s3 = TK_41(3, \"Три\", 3, \"TK-42\")\n",
    "print(f\"В цьоьму обєкті ми явно задали всі атрибути {s3.__dict__}\")"
   ]
  },
  {
   "cell_type": "code",
   "execution_count": 60,
   "metadata": {},
   "outputs": [
    {
     "name": "stdout",
     "output_type": "stream",
     "text": [
      "Один\n",
      "1\n",
      "None\n",
      "10\n"
     ]
    }
   ],
   "source": [
    "print(s1.name)\n",
    "#s1.name = \"Три\"\n",
    "\n",
    "print(s1.surname)\n",
    "\n",
    "print(s1._age)\n",
    "s1._age = 10\n",
    "print(s1._age)\n",
    "\n",
    "# s1.__surname  # хоча ВіжуалСтудіо підкидує автокомплішн, це буде помилка"
   ]
  },
  {
   "cell_type": "code",
   "execution_count": 64,
   "metadata": {},
   "outputs": [
    {
     "name": "stdout",
     "output_type": "stream",
     "text": [
      "Викликаємо __init__\n",
      "Відрахували студента\n",
      "Ми викликали публічний метод\n",
      "Це приватний метод!\n",
      "Ми доступаємось до захищеного методу\n",
      "\n",
      "Тільки прийшли вчитись в коледж: 0\n",
      "Провчились семестр і здали все на 5:  Присвоєно підвищену стипундію\n",
      "І наша стипендія тепер: 1800 грн\n",
      "За другий семетр набрали рейтинг 4 : Присвоєно звичайну стипундію\n",
      "А тепер вона: 1400 грн\n",
      "Перестали вчитись: Рейтинг занизький для стипендії\n",
      "а тепер: 0\n",
      "\n"
     ]
    }
   ],
   "source": [
    "from my_class import TK_41\n",
    "\n",
    "s1 = TK_41(1, \"Один\", 1)\n",
    "\n",
    "print(s1.fucntion_in_class())\n",
    "print(s1._protected_method_in_class())\n",
    "\n",
    "\n",
    "\n",
    "print(f\"\"\"\n",
    "Тільки прийшли вчитись в коледж: {s1._scholarship}\n",
    "Провчились семестр і здали все на 5:  {s1.calculate_scholarship_after_session(5)}\n",
    "І наша стипендія тепер: {s1._scholarship}\n",
    "За другий семетр набрали рейтинг 4 : {s1.calculate_scholarship_after_session(4)}\n",
    "А тепер вона: {s1._scholarship}\n",
    "Перестали вчитись: {s1.calculate_scholarship_after_session(3)}\n",
    "а тепер: {s1._scholarship}\n",
    "\"\"\")"
   ]
  },
  {
   "cell_type": "code",
   "execution_count": 35,
   "metadata": {},
   "outputs": [],
   "source": [
    "# del s1"
   ]
  },
  {
   "cell_type": "code",
   "execution_count": 77,
   "metadata": {},
   "outputs": [
    {
     "name": "stdout",
     "output_type": "stream",
     "text": [
      "Викликаємо __init__\n",
      "Відрахували студента\n",
      "Викликаємо __init__\n",
      "Відрахували студента\n",
      "Перазаписали класові змінну Це проста класова змінна\n",
      "13 15.846153846153847\n"
     ]
    }
   ],
   "source": [
    "from my_class import TK_41\n",
    "\n",
    "s1 = TK_41(1, \"Один\", 1)\n",
    "s2 = TK_41(2, \"Два\", 3)\n",
    "\n",
    "print(s1.var_lover_case, TK_41.var_lover_case)\n",
    "print(TK_41.total_students, s1.college_raiting)"
   ]
  },
  {
   "cell_type": "code",
   "execution_count": null,
   "metadata": {},
   "outputs": [
    {
     "name": "stdout",
     "output_type": "stream",
     "text": [
      "Викликаємо __init__\n",
      "Відрахували студента\n",
      "В мене зявилось хоббі Футболл\n",
      "На жаль в мене немає Хаббі\n",
      "В мене зявилось хоббі швидка їзда\n"
     ]
    }
   ],
   "source": [
    "from my_class import TK_41\n",
    "\n",
    "a = TK_41(1, \"Один\", 1)\n",
    "# тут ми неявно вказуємо обєкт і передаємо його у метод\n",
    "a.fucntion_in_class()\n",
    "\n",
    "# викликаємо метод з класу і явно вказуємо на обєкт\n",
    "b = TK_41.fucntion_in_class(a)\n",
    "\n",
    "# у статичних методів немає вказівника на обєкт, але ми його може викликати з обєкту\n",
    "a.hobbi(\"Комп'ютерні ігри\")\n",
    "\n",
    "# також ми викликаємо статичний метод з класу без вказування обєкту\n",
    "TK_41.hobbi()\n",
    "TK_41.hobbi(\"швидка їзда\")"
   ]
  },
  {
   "cell_type": "code",
   "execution_count": 38,
   "metadata": {},
   "outputs": [
    {
     "name": "stdout",
     "output_type": "stream",
     "text": [
      "Викликаємо __init__\n",
      "Відрахували студента\n",
      "Викликаємо __init__\n",
      "Відрахували студента\n",
      "Викликаємо __init__\n",
      "Відрахували студента\n",
      "Smith Smith Smith\n"
     ]
    }
   ],
   "source": [
    "from my_class import TK_41\n",
    "\n",
    "js = TK_41(\"Smith\", \"Jhon\", 0)\n",
    "\n",
    "f_js = TK_41.create_from_name_surname(\"Jhon Smith\")\n",
    "\n",
    "r_js = TK_41.create_from_surname_name(\"Smith Jhon\")\n",
    "print(js.surname, f_js.surname, r_js.surname)"
   ]
  },
  {
   "cell_type": "code",
   "execution_count": 39,
   "metadata": {},
   "outputs": [
    {
     "name": "stdout",
     "output_type": "stream",
     "text": [
      "Stosyk Yura\n",
      "False\n"
     ]
    }
   ],
   "source": [
    "from chatGPT import Student\n",
    "student1 = Student(\"Stosyk\",\"Yura\", 2.9)\n",
    "print(student1.get_full_name())\n",
    "print(student1.is_passing())"
   ]
  },
  {
   "cell_type": "code",
   "execution_count": null,
   "metadata": {},
   "outputs": [
    {
     "name": "stdout",
     "output_type": "stream",
     "text": [
      "Викликаємо __init__\n",
      "Привіт 3\n"
     ]
    }
   ],
   "source": []
  }
 ],
 "metadata": {
  "kernelspec": {
   "display_name": "Python 3",
   "language": "python",
   "name": "python3"
  },
  "language_info": {
   "codemirror_mode": {
    "name": "ipython",
    "version": 3
   },
   "file_extension": ".py",
   "mimetype": "text/x-python",
   "name": "python",
   "nbconvert_exporter": "python",
   "pygments_lexer": "ipython3",
   "version": "3.12.6"
  }
 },
 "nbformat": 4,
 "nbformat_minor": 2
}
