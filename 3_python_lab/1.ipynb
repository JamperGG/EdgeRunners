{
 "cells": [
  {
   "cell_type": "code",
   "execution_count": null,
   "metadata": {},
   "outputs": [],
   "source": [
    "import importlib\n",
    "import my_class \n",
    "\n",
    "importlib.reload(my_class)"
   ]
  },
  {
   "cell_type": "code",
   "execution_count": null,
   "metadata": {},
   "outputs": [],
   "source": [
    "from my_class import TK_41, function_in_module\n",
    "print(TK_41)\n",
    "help(TK_41)"
   ]
  },
  {
   "cell_type": "code",
   "execution_count": null,
   "metadata": {},
   "outputs": [],
   "source": [
    "name = [\"Юра\", \"Назар\", \"Орест\", \"Ярема\"]\n",
    "surname = [\"Стосик\", \"Кукуруза\", \"Рубан\", \"Ющак\"]\n",
    "mark = [5, 1, 2, 2]\n",
    "\n",
    "print([f\"Студент {surname[i]} {name[i]} отримав оцінку {mark[i]}\" for i in range(len(name))])"
   ]
  },
  {
   "cell_type": "code",
   "execution_count": null,
   "metadata": {},
   "outputs": [],
   "source": [
    "cap = {\n",
    "    \"Прізвище\": [\"Юра\", \"Назар\", \"Орест\", \"Ярема\"],\n",
    "    \"Імя\": [\"Стосик\", \"Кукуруза\", \"Рубан\", \"Ющак\"],\n",
    "    \"Оцінка\": [5, 0, 0, 0]\n",
    "}\n",
    "\n",
    "for str in range(len(cap[\"Прізвище\"])):\n",
    "    print(f\"Студент {cap[\"Прізвище\"][str]} {cap[\"Імя\"][str]} отримав оцінку {cap[\"Оцінка\"][str]}\")"
   ]
  },
  {
   "cell_type": "code",
   "execution_count": null,
   "metadata": {},
   "outputs": [],
   "source": [
    "from my_class import TK_41\n",
    "c = [TK_41(\"Юра\", \"Стосик\", 4),\n",
    "     TK_41(\"Назар\", \"Кукуруза\", 5),\n",
    "     TK_41(\"Орест\", \"Рубан\", 3),\n",
    "     TK_41(\"Ющак\", \"Ярема\", 4)\n",
    "     ]\n",
    "\n",
    "for student in c:\n",
    "    print(f\"Студент {student.surname} {student.name} отримав оцінку {student.mark}\")"
   ]
  },
  {
   "cell_type": "code",
   "execution_count": null,
   "metadata": {},
   "outputs": [],
   "source": [
    "from my_class import TK_41\n",
    "obj = TK_41(\"Внатурі\", \"Старенький\", 52)\n",
    "\n",
    "print(obj)\n",
    "help(obj)\n",
    "\n",
    "print(TK_41.__doc__)\n",
    "\n",
    "print(\"Довжина прізвища: \", len(obj))\n",
    "\n",
    "print(\"Беремо атрибут імені\", obj.name)"
   ]
  },
  {
   "cell_type": "code",
   "execution_count": null,
   "metadata": {},
   "outputs": [],
   "source": [
    "from my_class import TK_41\n",
    "\n",
    "s1 = TK_41(1, \"Один\", 1)\n",
    "\n",
    "print(f\"В обєкта будуть наступні атрибути: {s1.__dict__}\")\n",
    "s1.group = \"TK-41\"\n",
    "\n",
    "s2 = TK_41(2, \"Два\", 2)\n",
    "print(f\"{s1.__dict__} але базові атрибути будуть доступними для {s2.__dict__}\")\n",
    "\n",
    "s3 = TK_41(3, \"Три\", 3, \"TK-42\")\n",
    "print(f\"В цьоьму обєкті ми явно задали всі атрибути {s3.__dict__}\")"
   ]
  },
  {
   "cell_type": "code",
   "execution_count": null,
   "metadata": {},
   "outputs": [],
   "source": [
    "print(s1.name)\n",
    "#s1.name = \"Три\"\n",
    "\n",
    "print(s1.surname)\n",
    "\n",
    "print(s1._age)\n",
    "s1._age = 10\n",
    "print(s1._age)\n",
    "\n",
    "# s1.__surname  # хоча ВіжуалСтудіо підкидує автокомплішн, це буде помилка"
   ]
  },
  {
   "cell_type": "code",
   "execution_count": null,
   "metadata": {},
   "outputs": [],
   "source": [
    "from my_class import TK_41\n",
    "\n",
    "s1 = TK_41(1, \"Один\", 1)\n",
    "\n",
    "print(s1.fucntion_in_class())\n",
    "print(s1._protected_method_in_class())\n",
    "\n",
    "\n",
    "\n",
    "print(f\"\"\"\n",
    "Тільки прийшли вчитись в коледж: {s1._scholarship}\n",
    "Провчились семестр і здали все на 5:  {s1.calculate_scholarship_after_session(5)}\n",
    "І наша стипендія тепер: {s1._scholarship}\n",
    "За другий семетр набрали рейтинг 4 : {s1.calculate_scholarship_after_session(4)}\n",
    "А тепер вона: {s1._scholarship}\n",
    "Перестали вчитись: {s1.calculate_scholarship_after_session(3)}\n",
    "а тепер: {s1._scholarship}\n",
    "\"\"\")"
   ]
  },
  {
   "cell_type": "code",
   "execution_count": null,
   "metadata": {},
   "outputs": [],
   "source": [
    "# del s1"
   ]
  },
  {
   "cell_type": "code",
   "execution_count": null,
   "metadata": {},
   "outputs": [],
   "source": [
    "from my_class import TK_41\n",
    "\n",
    "s1 = TK_41(1, \"Один\", 1)\n",
    "s2 = TK_41(2, \"Два\", 3)\n",
    "\n",
    "print(s1.var_lover_case, TK_41.var_lover_case)\n",
    "print(TK_41.total_students, s1.college_raiting)"
   ]
  },
  {
   "cell_type": "code",
   "execution_count": null,
   "metadata": {},
   "outputs": [],
   "source": [
    "from my_class import TK_41\n",
    "\n",
    "a = TK_41(1, \"Один\", 1)\n",
    "# тут ми неявно вказуємо обєкт і передаємо його у метод\n",
    "a.fucntion_in_class()\n",
    "\n",
    "# викликаємо метод з класу і явно вказуємо на обєкт\n",
    "b = TK_41.fucntion_in_class(a)\n",
    "\n",
    "# у статичних методів немає вказівника на обєкт, але ми його може викликати з обєкту\n",
    "a.hobbi(\"Комп'ютерні ігри\")\n",
    "\n",
    "# також ми викликаємо статичний метод з класу без вказування обєкту\n",
    "TK_41.hobbi()\n",
    "TK_41.hobbi(\"швидка їзда\")"
   ]
  },
  {
   "cell_type": "code",
   "execution_count": null,
   "metadata": {},
   "outputs": [],
   "source": [
    "from my_class import TK_41\n",
    "\n",
    "js = TK_41(\"Smith\", \"Jhon\", 0)\n",
    "\n",
    "f_js = TK_41.create_from_name_surname(\"Jhon Smith\")\n",
    "\n",
    "r_js = TK_41.create_from_surname_name(\"Smith Jhon\")\n",
    "print(js.surname, f_js.surname, r_js.surname)"
   ]
  },
  {
   "cell_type": "code",
   "execution_count": null,
   "metadata": {},
   "outputs": [],
   "source": [
    "from chatGPT import Student\n",
    "student1 = Student(\"Stosyk\",\"Yura\", 2.9)\n",
    "print(student1.get_full_name())\n",
    "print(student1.is_passing())"
   ]
  },
  {
   "cell_type": "code",
   "execution_count": null,
   "metadata": {},
   "outputs": [],
   "source": []
  }
 ],
 "metadata": {
  "kernelspec": {
   "display_name": "Python 3",
   "language": "python",
   "name": "python3"
  },
  "language_info": {
   "codemirror_mode": {
    "name": "ipython",
    "version": 3
   },
   "file_extension": ".py",
   "mimetype": "text/x-python",
   "name": "python",
   "nbconvert_exporter": "python",
   "pygments_lexer": "ipython3",
   "version": "3.12.6"
  }
 },
 "nbformat": 4,
 "nbformat_minor": 2
}
