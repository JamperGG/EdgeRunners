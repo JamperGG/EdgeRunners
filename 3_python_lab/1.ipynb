{
 "cells": [
  {
   "cell_type": "code",
   "execution_count": 2,
   "metadata": {},
   "outputs": [
    {
     "name": "stdout",
     "output_type": "stream",
     "text": [
      "Yura\n",
      "18\n"
     ]
    },
    {
     "data": {
      "text/plain": [
       "<module 'my_class' from 'd:\\\\Edgerunner\\\\EdgeRunners-7\\\\3_python_lab\\\\my_class.py'>"
      ]
     },
     "execution_count": 2,
     "metadata": {},
     "output_type": "execute_result"
    }
   ],
   "source": [
    "import importlib\n",
    "import my_class\n",
    "\n",
    "importlib.reload(my_class)"
   ]
  },
  {
   "cell_type": "code",
   "execution_count": 26,
   "metadata": {},
   "outputs": [
    {
     "name": "stdout",
     "output_type": "stream",
     "text": [
      "ось такі атрибути в об'єкта {'name': 'Karl', '_age': '15', '_Person__salary': 0}\n",
      "{'name': 'Yura', '_age': 22, '_Person__salary': 0}\n"
     ]
    }
   ],
   "source": [
    "from my_class import Person\n",
    "p1 = Person(\"Karl\", \"15\")\n",
    "print(f\"ось такі атрибути в об'єкта {p1.__dict__}\")\n",
    "\n",
    "p2 = Person(\"Yura\", \"18\")\n",
    "p2.age = 22\n",
    "print(p2.__dict__)\n"
   ]
  },
  {
   "cell_type": "code",
   "execution_count": null,
   "metadata": {},
   "outputs": [],
   "source": []
  }
 ],
 "metadata": {
  "kernelspec": {
   "display_name": "Python 3",
   "language": "python",
   "name": "python3"
  },
  "language_info": {
   "codemirror_mode": {
    "name": "ipython",
    "version": 3
   },
   "file_extension": ".py",
   "mimetype": "text/x-python",
   "name": "python",
   "nbconvert_exporter": "python",
   "pygments_lexer": "ipython3",
   "version": "3.12.5"
  }
 },
 "nbformat": 4,
 "nbformat_minor": 2
}
