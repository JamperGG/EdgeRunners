{
 "cells": [
  {
   "cell_type": "markdown",
   "metadata": {},
   "source": [
    "## Завдання до екзамену\n",
    "- Класс з глобальними змінними,одини із яких списки"
   ]
  },
  {
   "cell_type": "code",
   "execution_count": 11,
   "metadata": {},
   "outputs": [
    {
     "name": "stdout",
     "output_type": "stream",
     "text": [
      "До глобального списку додано: diamond\n",
      "До глобального списку додано: \n",
      "Локальний список: [42, 'Bratuha', 55]\n",
      "Глобальний список: ['diamond', '']\n",
      "Глобальна змінна: 42\n"
     ]
    }
   ],
   "source": [
    "\n",
    "\n",
    "global42 = 42  \n",
    "\n",
    "\n",
    "class Bratuha42Class:\n",
    "    \n",
    "    global_list = []  \n",
    "\n",
    "    def __init__(self): \n",
    "        self.local_list = [42, \"Bratuha\", 55]  \n",
    "\n",
    "    def add_to_global_list(self, item): \n",
    "         #додає елемент до глобального списку\n",
    "        Bratuha42Class.global_list.append(item)  \n",
    "        print(f\"До глобального списку додано: {item}\")\n",
    "\n",
    "    def print_lists(self):  \n",
    "        #Виводить вміст локального і глобального списків\n",
    "        print(f\"Локальний список: {self.local_list}\")  \n",
    "        print(f\"Глобальний список: {Bratuha42Class.global_list}\")  \n",
    "\n",
    "\n",
    "my_object = Bratuha42Class()  \n",
    "\n",
    "\n",
    "my_object.add_to_global_list(\"Diamond\")  \n",
    "my_object.add_to_global_list(\"otso city\")  \n",
    "\n",
    "\n",
    "my_object.print_lists()\n",
    "\n",
    "\n",
    "print(f\"Глобальна змінна: {global42}\")  \n"
   ]
  }
 ],
 "metadata": {
  "kernelspec": {
   "display_name": "Python 3",
   "language": "python",
   "name": "python3"
  },
  "language_info": {
   "codemirror_mode": {
    "name": "ipython",
    "version": 3
   },
   "file_extension": ".py",
   "mimetype": "text/x-python",
   "name": "python",
   "nbconvert_exporter": "python",
   "pygments_lexer": "ipython3",
   "version": "3.12.6"
  }
 },
 "nbformat": 4,
 "nbformat_minor": 2
}
